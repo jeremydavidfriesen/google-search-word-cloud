{
 "cells": [
  {
   "cell_type": "code",
   "execution_count": 1,
   "metadata": {},
   "outputs": [],
   "source": [
    "# necessary imports\n",
    "from os import path\n",
    "import os\n",
    "\n",
    "import matplotlib.pyplot as plt\n",
    "import numpy as np\n",
    "\n",
    "from PIL import Image\n",
    "from wordcloud import WordCloud as wc\n",
    "from wordcloud import STOPWORDS"
   ]
  },
  {
   "cell_type": "code",
   "execution_count": 2,
   "metadata": {},
   "outputs": [],
   "source": [
    "# open and read in Google activity doc\n",
    "with open ('My Activity.html', 'r', encoding='utf8') as myfile:\n",
    "    data=myfile.readlines()\n",
    "d = ''.join(data)"
   ]
  },
  {
   "cell_type": "code",
   "execution_count": 3,
   "metadata": {},
   "outputs": [],
   "source": [
    "# find all searches and put into list\n",
    "def findSearchEnd(i):\n",
    "    for i in range(i, len(d)):\n",
    "        if(d[i] == '<'):\n",
    "            return i\n",
    "    return -1\n",
    "\n",
    "token = 0\n",
    "searches = []\n",
    "\n",
    "for i in range(0, len(d)):\n",
    "    if(token == 1 and d[i] == '>'):\n",
    "        searches.append(d[i+1:findSearchEnd(i+1)])\n",
    "        token = 0\n",
    "    if(d[i:i+12] == 'Searched for'):\n",
    "        token = 1"
   ]
  },
  {
   "cell_type": "code",
   "execution_count": 5,
   "metadata": {},
   "outputs": [],
   "source": [
    "# join all searches into one string\n",
    "text = ' '.join(searches)"
   ]
  },
  {
   "cell_type": "code",
   "execution_count": 6,
   "metadata": {},
   "outputs": [],
   "source": [
    "# load in google logo mask\n",
    "p = path.dirname(__file__) if '__file__' in locals() else os.getcwd()\n",
    "googleMask = np.array(Image.open(path.join(p, 'googlemask.png')))"
   ]
  },
  {
   "cell_type": "code",
   "execution_count": 7,
   "metadata": {},
   "outputs": [],
   "source": [
    "# add any strings you want to exclude to exclude\n",
    "exclude = []\n",
    "stopwords = set(STOPWORDS)\n",
    "stopwords.update(exclude)"
   ]
  },
  {
   "cell_type": "code",
   "execution_count": 4,
   "metadata": {},
   "outputs": [],
   "source": [
    "# generate wordcloud\n",
    "vis = wc(background_color='white', max_words=1000, mask=googleMask,\n",
    "               stopwords=stopwords, colormap='tab10')\n",
    "vis.generate(text);"
   ]
  },
  {
   "cell_type": "code",
   "execution_count": 3,
   "metadata": {},
   "outputs": [],
   "source": [
    "# show wordcloud\n",
    "plt.imshow(vis, interpolation='bilinear')\n",
    "plt.axis('off')\n",
    "plt.show()"
   ]
  },
  {
   "cell_type": "code",
   "execution_count": 10,
   "metadata": {
    "scrolled": false
   },
   "outputs": [],
   "source": [
    "# save wordcloud\n",
    "vis.to_file(path.join(p, \"googleWordCloud.png\"));"
   ]
  }
 ],
 "metadata": {
  "kernelspec": {
   "display_name": "Python 3",
   "language": "python",
   "name": "python3"
  },
  "language_info": {
   "codemirror_mode": {
    "name": "ipython",
    "version": 3
   },
   "file_extension": ".py",
   "mimetype": "text/x-python",
   "name": "python",
   "nbconvert_exporter": "python",
   "pygments_lexer": "ipython3",
   "version": "3.7.3"
  }
 },
 "nbformat": 4,
 "nbformat_minor": 4
}
